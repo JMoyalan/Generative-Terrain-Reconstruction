{
 "cells": [
  {
   "cell_type": "code",
   "execution_count": 2,
   "id": "bb2411e7",
   "metadata": {},
   "outputs": [],
   "source": [
    "import matplotlib.pyplot as plt\n",
    "from perlin_noise import PerlinNoise\n",
    "import time\n",
    "import random\n",
    "import os\n",
    "import pathlib\n",
    "import numpy as np\n",
    "from PIL import Image\n"
   ]
  },
  {
   "cell_type": "code",
   "execution_count": 60,
   "id": "5f6f6adb",
   "metadata": {},
   "outputs": [
    {
     "name": "stdout",
     "output_type": "stream",
     "text": [
      "Number of Terrains Generated: 100\n",
      "<<<<<<<<<<<<<<<//////////////////// Done Generating Terrains \\\\\\\\\\\\\\\\\\\\\\\\>>>>>>>>>>>>>>>>>>>>\n"
     ]
    }
   ],
   "source": [
    "path=os.getcwd()\n",
    "# data_dir=pathlib.Path(path+'/big_heightmaps')\n",
    "random.seed(int(time.time()))\n",
    "\n",
    "octaves = 6\n",
    "\n",
    "for img_num in range(100):\n",
    "    seed = random.randrange(100000000)\n",
    "    noise = PerlinNoise(octaves=octaves, seed=seed)\n",
    "    xpix, ypix = 121, 121\n",
    "    pic = [[noise([i/xpix, j/ypix]) for j in range(xpix)] for i in range(ypix)]\n",
    "    \n",
    "#     img_path = pathlib.Path(path+str(octaves)+'/O'+str(octaves)+'_'+str(img_num+1)+'.png')\n",
    "\n",
    "    pic_np = (np.array(pic)).reshape((121,121))\n",
    "    p_max = np.max(pic_np)\n",
    "    p_min = np.min(pic_np)\n",
    "    if p_max-p_min>1:\n",
    "        pic_np = (((pic_np-p_min)/(p_max-p_min))*255).astype('uint8')\n",
    "    else: pic_np = ((pic_np-p_min)*255).astype('uint8')\n",
    "#     img_max = np.max(np_img_mat)\n",
    "#     img_min = np.min(np_img_mat)\n",
    "#     np_img = ((np_img_mat-img_min)/(img_max-img_min)).astype('uint8')\n",
    "\n",
    "    pil_img = Image.fromarray(pic_np, 'L')\n",
    "    img_path='O'+str(octaves)+'_'+str(img_num+1)+'.png'\n",
    "    pil_img.save(img_path)\n",
    "    \n",
    "    if not (img_num+1)%100:\n",
    "        print(\"Number of Terrains Generated:\",img_num+1)\n",
    "    \n",
    "print(\"<<<<<<<<<<<<<<<//////////////////// Done Generating Terrains \\\\\\\\\\\\\\\\\\\\\\\\\\\\\\\\\\\\\\\\\\\\\\>>>>>>>>>>>>>>>>>>>>\")"
   ]
  },
  {
   "cell_type": "code",
   "execution_count": null,
   "id": "3a6f7a8f",
   "metadata": {},
   "outputs": [],
   "source": []
  }
 ],
 "metadata": {
  "kernelspec": {
   "display_name": "Python 3 (ipykernel)",
   "language": "python",
   "name": "python3"
  },
  "language_info": {
   "codemirror_mode": {
    "name": "ipython",
    "version": 3
   },
   "file_extension": ".py",
   "mimetype": "text/x-python",
   "name": "python",
   "nbconvert_exporter": "python",
   "pygments_lexer": "ipython3",
   "version": "3.9.7"
  }
 },
 "nbformat": 4,
 "nbformat_minor": 5
}
